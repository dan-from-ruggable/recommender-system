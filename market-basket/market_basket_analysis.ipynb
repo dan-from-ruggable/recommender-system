{
 "cells": [
  {
   "cell_type": "markdown",
   "id": "23488c23",
   "metadata": {},
   "source": [
    "# Bundling Analysis"
   ]
  },
  {
   "cell_type": "markdown",
   "id": "d0a2485e-5ade-4773-b450-2fe06b7fe1fe",
   "metadata": {},
   "source": [
    "### Load Libraries"
   ]
  },
  {
   "cell_type": "code",
   "execution_count": 15,
   "id": "3adfc682",
   "metadata": {},
   "outputs": [
    {
     "name": "stdout",
     "output_type": "stream",
     "text": [
      "[1] \"current working directory is fine\"\n"
     ]
    }
   ],
   "source": [
    "# libraries\n",
    "library(tidyverse)\n",
    "library(arules)\n",
    "library(arulesViz)\n",
    "library(RPostgreSQL)\n",
    "library(tsibble)\n",
    "library(gridExtra)\n",
    "library(clipr)\n",
    "library(stringr)\n",
    "library(config)\n",
    "library(googlesheets4)\n",
    "\n",
    "# setting wd\n",
    "if ( grepl(\"recommender-system\", getwd(), fixed = TRUE) ) {\n",
    "    print(\"current working directory is fine\")\n",
    "} else {\n",
    "    setwd(\"./projects/recommender-system\")\n",
    "    print(\"changed working directory\")\n",
    "}"
   ]
  },
  {
   "cell_type": "code",
   "execution_count": 16,
   "id": "63ace049",
   "metadata": {},
   "outputs": [],
   "source": [
    "# load functions\n",
    "source(\"bundle-functions.R\")"
   ]
  },
  {
   "cell_type": "markdown",
   "id": "8cf9d82e",
   "metadata": {},
   "source": [
    "### Get Data"
   ]
  },
  {
   "cell_type": "code",
   "execution_count": 17,
   "id": "070bc425",
   "metadata": {},
   "outputs": [],
   "source": [
    "# get credentials\n",
    "dw <- config::get(file=\"./redshift_credentials.yml\")"
   ]
  },
  {
   "cell_type": "code",
   "execution_count": 18,
   "id": "ba8db1e9",
   "metadata": {},
   "outputs": [],
   "source": [
    "options(warn=-1)\n",
    "# connecting to dw\n",
    "con <- DBI::dbConnect(RPostgreSQL::PostgreSQL(),\n",
    "                      dbname = dw$dbname,\n",
    "                      host = dw$host,\n",
    "                      port = dw$port,\n",
    "                      user = dw$user,\n",
    "                      password = dw$password)\n",
    "# read query from sql file and execute\n",
    "query_1 <- getSQL(\"sql/data_pull__purchases.sql\") \n",
    "df_purchases <- dbGetQuery(con, query_1) %>% as_tibble()\n",
    "\n",
    "query_2 <- getSQL(\"sql/data_pull__purchases_same_size_by_size.sql\") \n",
    "df_purchases_same_size_by_size <- dbGetQuery(con, query_2) %>% as_tibble()\n",
    "\n",
    "query_3 <- getSQL(\"sql/data_pull__purchases_same_size_overall.sql\") \n",
    "df_purchases_same_size_overall <- dbGetQuery(con, query_3) %>% as_tibble()\n",
    "\n",
    "query_4 <- getSQL(\"sql/data_pull__top-selling-designs.sql\") \n",
    "df_top_designs <- dbGetQuery(con, query_4) %>% as_tibble()\n",
    "\n",
    "options(warn=0)"
   ]
  },
  {
   "cell_type": "code",
   "execution_count": 21,
   "id": "44131011-9fee-484d-a7c8-c8569daae2eb",
   "metadata": {},
   "outputs": [
    {
     "data": {
      "text/html": [
       "<table class=\"dataframe\">\n",
       "<caption>A tibble: 6 × 3</caption>\n",
       "<thead>\n",
       "\t<tr><th scope=col>customer_id</th><th scope=col>size</th><th scope=col>products_purchased</th></tr>\n",
       "\t<tr><th scope=col>&lt;dbl&gt;</th><th scope=col>&lt;chr&gt;</th><th scope=col>&lt;chr&gt;</th></tr>\n",
       "</thead>\n",
       "<tbody>\n",
       "\t<tr><td>  3394736324</td><td>8x10 </td><td>Kamran Hazel Rug, Watercolor Herringbone Blue Rug          </td></tr>\n",
       "\t<tr><td>  5228658244</td><td>3x5  </td><td>Camellia Jade Rug, Kamran Coral Rug, Starfish Pale Blue Rug</td></tr>\n",
       "\t<tr><td>  5395331524</td><td>5x7  </td><td>Sudaria Solid Teal Blue Rug, Thalia Black Rug              </td></tr>\n",
       "\t<tr><td><span style=white-space:pre-wrap>  5564544452</span></td><td>2.5x7</td><td><span style=white-space:pre-wrap>Leelu Black &amp; White Rug, Prisma Natural Rug                </span></td></tr>\n",
       "\t<tr><td>  5568771844</td><td>5x7  </td><td>Maral Heriz Creme Rug, Moroccan Ornate Plush Rug           </td></tr>\n",
       "\t<tr><td>340228636703</td><td>3x5  </td><td>Polar White Plush Rug, Watercolor Floral Coral Rug         </td></tr>\n",
       "</tbody>\n",
       "</table>\n"
      ],
      "text/latex": [
       "A tibble: 6 × 3\n",
       "\\begin{tabular}{lll}\n",
       " customer\\_id & size & products\\_purchased\\\\\n",
       " <dbl> & <chr> & <chr>\\\\\n",
       "\\hline\n",
       "\t   3394736324 & 8x10  & Kamran Hazel Rug, Watercolor Herringbone Blue Rug          \\\\\n",
       "\t   5228658244 & 3x5   & Camellia Jade Rug, Kamran Coral Rug, Starfish Pale Blue Rug\\\\\n",
       "\t   5395331524 & 5x7   & Sudaria Solid Teal Blue Rug, Thalia Black Rug              \\\\\n",
       "\t   5564544452 & 2.5x7 & Leelu Black \\& White Rug, Prisma Natural Rug                \\\\\n",
       "\t   5568771844 & 5x7   & Maral Heriz Creme Rug, Moroccan Ornate Plush Rug           \\\\\n",
       "\t 340228636703 & 3x5   & Polar White Plush Rug, Watercolor Floral Coral Rug         \\\\\n",
       "\\end{tabular}\n"
      ],
      "text/markdown": [
       "\n",
       "A tibble: 6 × 3\n",
       "\n",
       "| customer_id &lt;dbl&gt; | size &lt;chr&gt; | products_purchased &lt;chr&gt; |\n",
       "|---|---|---|\n",
       "|   3394736324 | 8x10  | Kamran Hazel Rug, Watercolor Herringbone Blue Rug           |\n",
       "|   5228658244 | 3x5   | Camellia Jade Rug, Kamran Coral Rug, Starfish Pale Blue Rug |\n",
       "|   5395331524 | 5x7   | Sudaria Solid Teal Blue Rug, Thalia Black Rug               |\n",
       "|   5564544452 | 2.5x7 | Leelu Black &amp; White Rug, Prisma Natural Rug                 |\n",
       "|   5568771844 | 5x7   | Maral Heriz Creme Rug, Moroccan Ornate Plush Rug            |\n",
       "| 340228636703 | 3x5   | Polar White Plush Rug, Watercolor Floral Coral Rug          |\n",
       "\n"
      ],
      "text/plain": [
       "  customer_id  size \n",
       "1   3394736324 8x10 \n",
       "2   5228658244 3x5  \n",
       "3   5395331524 5x7  \n",
       "4   5564544452 2.5x7\n",
       "5   5568771844 5x7  \n",
       "6 340228636703 3x5  \n",
       "  products_purchased                                         \n",
       "1 Kamran Hazel Rug, Watercolor Herringbone Blue Rug          \n",
       "2 Camellia Jade Rug, Kamran Coral Rug, Starfish Pale Blue Rug\n",
       "3 Sudaria Solid Teal Blue Rug, Thalia Black Rug              \n",
       "4 Leelu Black & White Rug, Prisma Natural Rug                \n",
       "5 Maral Heriz Creme Rug, Moroccan Ornate Plush Rug           \n",
       "6 Polar White Plush Rug, Watercolor Floral Coral Rug         "
      ]
     },
     "metadata": {},
     "output_type": "display_data"
    }
   ],
   "source": [
    "head(df_purchases_same_size_overall)"
   ]
  },
  {
   "cell_type": "markdown",
   "id": "7ec2e861-77ec-4f8d-8f71-b5e438ec1f20",
   "metadata": {},
   "source": [
    "### Convert to Transactions"
   ]
  },
  {
   "cell_type": "code",
   "execution_count": 20,
   "id": "a6efca6f-74af-4cac-8069-954052d0ba35",
   "metadata": {},
   "outputs": [],
   "source": [
    "options(warn=-1)\n",
    "purchase_transactions <- makeTransaction(df_purchases)\n",
    "samesize_bysize_purchase_transactions <- makeTransaction(df_purchases_same_size_by_size)\n",
    "samesize_overall_purchase_transactions <- makeTransaction(df_purchases_same_size_overall)\n",
    "options(warn=0)"
   ]
  },
  {
   "cell_type": "markdown",
   "id": "8fbb9aba-87ca-449d-85ca-7b46e2b5cd0e",
   "metadata": {},
   "source": [
    "### Get Recommendations"
   ]
  },
  {
   "cell_type": "code",
   "execution_count": 24,
   "id": "cdb3c0f9-325c-4db0-9ca8-2631a4fb5754",
   "metadata": {},
   "outputs": [],
   "source": [
    "rug_of_interest <- 'Domo Sage Rug'"
   ]
  },
  {
   "cell_type": "code",
   "execution_count": 26,
   "id": "311b15f2",
   "metadata": {},
   "outputs": [
    {
     "name": "stdout",
     "output_type": "stream",
     "text": [
      "Apriori\n",
      "\n",
      "Parameter specification:\n",
      " confidence minval smax arem  aval originalSupport maxtime support minlen\n",
      "       0.01    0.1    1 none FALSE            TRUE       5   1e-05      1\n",
      " maxlen target  ext\n",
      "     10  rules TRUE\n",
      "\n",
      "Algorithmic control:\n",
      " filter tree heap memopt load sort verbose\n",
      "    0.1 TRUE TRUE  FALSE TRUE    2    TRUE\n",
      "\n",
      "Absolute minimum support count: 2 \n",
      "\n",
      "set item appearances ...[1 item(s)] done [0.00s].\n",
      "set transactions ...[902 item(s), 226318 transaction(s)] done [0.08s].\n",
      "sorting and recoding items ... [853 item(s)] done [0.00s].\n",
      "creating transaction tree ... done [0.06s].\n",
      "checking subsets of size 1 2 done [0.00s].\n",
      "writing ... [72 rule(s)] done [0.00s].\n",
      "creating S4 object  ... done [0.03s].\n",
      "     lhs                rhs                                          support confidence    coverage      lift count\n",
      "[1]  {Domo Sage Rug} => {Moden Blue Rug}                        3.092993e-05 0.01470588 0.002103235 13.366289     7\n",
      "[2]  {Domo Sage Rug} => {Gradasi Sumac Rug}                     2.209281e-05 0.01050420 0.002103235  5.943225     5\n",
      "[3]  {Domo Sage Rug} => {Mariposa Sage Rug}                     8.395267e-05 0.03991597 0.002103235 17.372503    19\n",
      "[4]  {Domo Sage Rug} => {Saltillo Polychrome Rug}               2.651137e-05 0.01260504 0.002103235  4.944104     6\n",
      "[5]  {Domo Sage Rug} => {Kavi Diamond Silver Rug}               2.209281e-05 0.01050420 0.002103235  3.348296     5\n",
      "[6]  {Domo Sage Rug} => {Jonathan Adler Inkdrop Lapis Blue Rug} 2.651137e-05 0.01260504 0.002103235  3.432910     6\n",
      "[7]  {Domo Sage Rug} => {Gradasi Grey Rug}                      3.976705e-05 0.01890756 0.002103235  4.765169     9\n",
      "[8]  {Domo Sage Rug} => {Anza Polychrome Rug}                   6.185986e-05 0.02941176 0.002103235  6.649762    14\n",
      "[9]  {Domo Sage Rug} => {Diamond Dalia Beige Ivory Rug}         2.651137e-05 0.01260504 0.002103235  2.910967     6\n",
      "[10] {Domo Sage Rug} => {Moroccan Zigzag Plush Rug}             3.534849e-05 0.01680672 0.002103235  3.133166     8\n",
      "[11] {Domo Sage Rug} => {Zareen Oxblood Red Rug}                3.092993e-05 0.01470588 0.002103235  2.708060     7\n",
      "[12] {Domo Sage Rug} => {Kilim Batik Multicolor Rug}            2.209281e-05 0.01050420 0.002103235  1.818891     5\n",
      "[13] {Domo Sage Rug} => {Absida Teal Rug}                       3.976705e-05 0.01890756 0.002103235  2.990302     9\n",
      "[14] {Domo Sage Rug} => {Herdanza Black & White Rug}            4.418561e-05 0.02100840 0.002103235  2.363111    10\n",
      "[15] {Domo Sage Rug} => {Gradasi Teal Quartz Rug}               5.744130e-05 0.02731092 0.002103235  3.007763    13\n",
      "[16] {Domo Sage Rug} => {Zareen Scarlet Red Rug}                3.976705e-05 0.01890756 0.002103235  2.036707     9\n",
      "[17] {Domo Sage Rug} => {Absida Rainbow Rug}                    5.302274e-05 0.02521008 0.002103235  2.437205    12\n",
      "[18] {Domo Sage Rug} => {Leelu Black & White Rug}               4.418561e-05 0.02100840 0.002103235  1.637816    10\n",
      "[19] {Domo Sage Rug} => {Thalia Black Rug}                      3.534849e-05 0.01680672 0.002103235  1.302179     8\n",
      "[20] {Domo Sage Rug} => {Desert Sumac Rug}                      1.104640e-04 0.05252101 0.002103235  2.752767    25\n",
      "[21] {Domo Sage Rug} => {Damali Black & White Rug}              2.253466e-04 0.10714286 0.002103235  2.882934    51\n",
      "NULL\n"
     ]
    }
   ],
   "source": [
    "select_rug_rules <- apriori(samesize_overall_purchase_transactions, parameter = list(supp=0.00001, conf=0.01),appearance = list(lhs=rug_of_interest,default=\"rhs\"))\n",
    "print(inspect(subset(select_rug_rules,lift > 1.2)))"
   ]
  }
 ],
 "metadata": {
  "kernelspec": {
   "display_name": "R",
   "language": "R",
   "name": "ir"
  },
  "language_info": {
   "codemirror_mode": "r",
   "file_extension": ".r",
   "mimetype": "text/x-r-source",
   "name": "R",
   "pygments_lexer": "r",
   "version": "4.0.4"
  }
 },
 "nbformat": 4,
 "nbformat_minor": 5
}
